{
 "cells": [
  {
   "cell_type": "code",
   "execution_count": null,
   "metadata": {},
   "outputs": [],
   "source": [
    "import sys,os\n",
    "# sys.path.append(os.path.dirname(os.path.dirname(os.path.abspath(__file__)))) # 添加上层目录到 sys.path\n",
    "\n",
    "from data_process import X_test,X_train,X_valid,y_test_master\n",
    "from data_process import y_test,y_train,y_train_master,y_valid_master,y_valid\n",
    "from data_process import X_valid_MCI,X_train_MCI,y_valid_MCI,y_train_MCI\n",
    "# from dimension_reduction import X_train,X_valid,X_test\n",
    "from dimension_reduction_lda import dimension_reduction,visualization\n",
    "from train_and_test import train_and_test,device\n",
    "import torch\n",
    "import torch.nn as nn\n",
    "import numpy as np\n",
    "import matplotlib.pyplot as plt\n",
    "import random\n",
    "import torch.nn.functional as F"
   ]
  }
 ],
 "metadata": {
  "language_info": {
   "name": "python"
  }
 },
 "nbformat": 4,
 "nbformat_minor": 2
}
