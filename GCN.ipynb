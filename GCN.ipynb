{
 "cells": [
  {
   "cell_type": "code",
   "execution_count": 1,
   "metadata": {},
   "outputs": [
    {
     "name": "stdout",
     "output_type": "stream",
     "text": [
      "{'AD': 0, 'MCI': 1, 'MCIn': 2, 'MCIp': 3, 'NC': 4}\n",
      "random seed: 1697033146\n"
     ]
    }
   ],
   "source": [
    "import sys,os\n",
    "# sys.path.append(os.path.dirname(os.path.dirname(os.path.abspath(__file__)))) # 添加上层目录到 sys.path\n",
    "# current_directory = os.path.abspath(os.path.curdir)\n",
    "# parent_directory = os.path.dirname(current_directory)\n",
    "# sys.path.append(parent_directory)\n",
    "from data_process import X_test,X_train,X_valid,y_test_master\n",
    "from data_process import y_test,y_train,y_train_master,y_valid_master,y_valid\n",
    "from data_process import X_valid_MCI,X_train_MCI,y_valid_MCI,y_train_MCI\n",
    "# from dimension_reduction import X_train,X_valid,X_test\n",
    "from dimension_reduction_lda import dimension_reduction,visualization\n",
    "from train_and_test import train_and_test,device\n",
    "import torch\n",
    "import torch.nn as nn\n",
    "import numpy as np\n",
    "import matplotlib.pyplot as plt\n",
    "import random\n",
    "import torch.nn.functional as F\n",
    "import torch_geometric.nn as pyg_nn"
   ]
  },
  {
   "cell_type": "code",
   "execution_count": 2,
   "metadata": {},
   "outputs": [],
   "source": [
    "from sklearn.neighbors import NearestNeighbors\n",
    "import scipy.sparse as sp\n",
    "\n",
    "def construct_knn_graph(X,y, k=5, metric='unsupervised'):\n",
    "    '''\n",
    "    Description: Construct the knn graph of the data.\n",
    "    \n",
    "    Input:\n",
    "    - X: Train data and test data.\n",
    "    - y: The label of train data.\n",
    "    - k: The number of nearest neighbors.\n",
    "    \n",
    "    Return:\n",
    "        - the knn graph of the data.\n",
    "    '''\n",
    "    knn=NearestNeighbors(n_neighbors=k,metric=metric)\n",
    "    knn.fit(X)\n",
    "    _, indices = knn.kneighbors(X) # Indices of the nearest points in the population matrix.\n",
    "    adj_mat=np.zeros((len(X),len(X)))\n",
    "    for i in range(len(X)):\n",
    "        for j in range(k):\n",
    "            adj_mat[i][indices[i][j]]=1\n",
    "    edge_index = []\n",
    "    for i in range(len(X_train)):\n",
    "        for j in range(len(X_train)):\n",
    "            if j>i and adj_mat[i][j]==1:\n",
    "                edge_index.append([i,j])\n",
    "    edge_index = torch.tensor(edge_index).T\n",
    "    edge_index = edge_index.to(device)\n",
    "    X = torch.tensor(X_train).float().to(device)\n",
    "    y = torch.tensor(y_train).long().to(device)\n",
    "    data = pyg_nn.data.Data(x=X,edge_index=edge_index,y=y)\n",
    "    return data"
   ]
  },
  {
   "cell_type": "code",
   "execution_count": 4,
   "metadata": {},
   "outputs": [
    {
     "name": "stderr",
     "output_type": "stream",
     "text": [
      "usage: ipykernel_launcher.py [-h] [--use_gdc]\n",
      "ipykernel_launcher.py: error: unrecognized arguments: --ip=127.0.0.1 --stdin=9018 --control=9016 --hb=9015 --Session.signature_scheme=\"hmac-sha256\" --Session.key=b\"3cc5f0db-f2a9-4007-a7b7-5622797c9b51\" --shell=9017 --transport=\"tcp\" --iopub=9019 --f=c:\\Users\\Calculus\\AppData\\Roaming\\jupyter\\runtime\\kernel-v2-17236X5bIaLSWNx2J.json\n"
     ]
    },
    {
     "ename": "SystemExit",
     "evalue": "2",
     "output_type": "error",
     "traceback": [
      "An exception has occurred, use %tb to see the full traceback.\n",
      "\u001b[1;31mSystemExit\u001b[0m\u001b[1;31m:\u001b[0m 2\n"
     ]
    }
   ],
   "source": [
    "import argparse\n",
    "import torch_geometric.transforms as T\n",
    "parser = argparse.ArgumentParser()\n",
    "parser.add_argument('--use_gdc', action='store_true',\n",
    "                    help='Use GDC preprocessing.')\n",
    "args = parser.parse_args()\n",
    "if args.use_gdc:\n",
    "    gdc = T.GDC(self_loop_weight=1, normalization_in='sym',\n",
    "                normalization_out='col',\n",
    "                diffusion_kwargs=dict(method='ppr', alpha=0.05),\n",
    "                sparsification_kwargs=dict(method='topk', k=128,\n",
    "                                           dim=0), exact=True)\n",
    "    data = gdc(data)\n",
    "\n",
    "\n",
    "class Net(torch.nn.Module):\n",
    "    def __init__(self):\n",
    "        super(Net, self).__init__()\n",
    "        # GCNConv模型输入参数：输入结点特征维度，输出结点特征维度，是否cached和是否normalize；\n",
    "        self.conv1 = GCNConv(dataset.num_features, 16, cached=True,\n",
    "                             normalize=not args.use_gdc)\n",
    "        self.conv2 = GCNConv(16, dataset.num_classes, cached=True,\n",
    "                             normalize=not args.use_gdc)\n",
    "\n",
    "        self.reg_params = self.conv1.parameters()\n",
    "        self.non_reg_params = self.conv2.parameters()\n",
    "\n",
    "    def forward(self):\n",
    "        x, edge_index, edge_weight = data.x, data.edge_index, data.edge_attr\n",
    "        x = F.relu(self.conv1(x, edge_index, edge_weight))\n",
    "        x = F.dropout(x, training=self.training)  # dropout操作，避免过拟合\n",
    "        x = self.conv2(x, edge_index, edge_weight)\n",
    "        return F.log_softmax(x, dim=1)  # 模型最后一层接上一个softmax和CNN类似"
   ]
  }
 ],
 "metadata": {
  "kernelspec": {
   "display_name": "Python 3",
   "language": "python",
   "name": "python3"
  },
  "language_info": {
   "codemirror_mode": {
    "name": "ipython",
    "version": 3
   },
   "file_extension": ".py",
   "mimetype": "text/x-python",
   "name": "python",
   "nbconvert_exporter": "python",
   "pygments_lexer": "ipython3",
   "version": "3.10.6"
  }
 },
 "nbformat": 4,
 "nbformat_minor": 2
}
